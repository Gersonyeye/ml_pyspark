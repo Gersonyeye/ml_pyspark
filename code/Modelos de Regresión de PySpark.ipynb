{
 "cells": [
  {
   "cell_type": "markdown",
   "id": "c50cc6b2",
   "metadata": {},
   "source": [
    "# Modelos de Regresión de PySpark "
   ]
  },
  {
   "cell_type": "code",
   "execution_count": 1,
   "id": "1d62057a",
   "metadata": {},
   "outputs": [],
   "source": [
    "import os\n",
    "import sys\n",
    "\n",
    "# Forzar a Spark a usar el Python de tu venv\n",
    "os.environ[\"PYSPARK_PYTHON\"] = sys.executable\n",
    "os.environ[\"PYSPARK_DRIVER_PYTHON\"] = sys.executable"
   ]
  },
  {
   "cell_type": "code",
   "execution_count": 2,
   "id": "e157ef34",
   "metadata": {},
   "outputs": [],
   "source": [
    "from pyspark.sql import SparkSession\n",
    "spark = SparkSession \\\n",
    "    .builder \\\n",
    "    .appName('Models') \\\n",
    "    .getOrCreate()"
   ]
  },
  {
   "cell_type": "markdown",
   "id": "7178563d",
   "metadata": {},
   "source": [
    "### Regresión lineal"
   ]
  },
  {
   "cell_type": "markdown",
   "id": "7ea8e9e6",
   "metadata": {},
   "source": [
    "La regresión lineal es una de las técnicas más usadas en Machine Learning. Su fortaleza estriba en su simplicidad e interpretabilidad."
   ]
  },
  {
   "cell_type": "code",
   "execution_count": 3,
   "id": "46779f98",
   "metadata": {},
   "outputs": [
    {
     "name": "stdout",
     "output_type": "stream",
     "text": [
      "Coefficients: [0.0,0.3229251667740594,-0.3438548034562219,1.915601702345841,0.05288058680386255,0.765962720459771,0.0,-0.15105392669186676,-0.21587930360904645,0.2202536918881343]\n",
      "Intercept: 0.15989368442397356\n",
      "numIterations: 6\n",
      "objectiveHistory: [0.49999999999999994, 0.4967620357443381, 0.49363616643404634, 0.4936351537897608, 0.4936351214177871, 0.49363512062528014, 0.4936351206216114]\n",
      "+--------------------+\n",
      "|           residuals|\n",
      "+--------------------+\n",
      "|  -9.889232683103197|\n",
      "|  0.5533794340053553|\n",
      "|  -5.204019455758822|\n",
      "| -20.566686715507508|\n",
      "|    -9.4497405180564|\n",
      "|  -6.909112502719487|\n",
      "|  -10.00431602969873|\n",
      "|  2.0623978070504845|\n",
      "|  3.1117508432954772|\n",
      "|  -15.89360822941938|\n",
      "|  -5.036284254673026|\n",
      "|  6.4832158769943335|\n",
      "|  12.429497299109002|\n",
      "|  -20.32003219007654|\n",
      "|    -2.0049838218725|\n",
      "| -17.867901734183793|\n",
      "|   7.646455887420495|\n",
      "| -2.2653482182417406|\n",
      "|-0.10308920436195645|\n",
      "|  -1.380034070385301|\n",
      "+--------------------+\n",
      "only showing top 20 rows\n",
      "\n",
      "RMSE: 10.189077\n",
      "r2: 0.022861\n"
     ]
    }
   ],
   "source": [
    "from pyspark.ml.regression import LinearRegression\n",
    "\n",
    "# Load training data\n",
    "training = spark.read.format(\"libsvm\")\\\n",
    "    .load(\"data/sample_linear_regression_data.txt\")\n",
    "\n",
    "lr = LinearRegression(maxIter=10, \n",
    "                      regParam=0.3, \n",
    "                      elasticNetParam=0.8)\n",
    "\n",
    "# Fit the model\n",
    "lrModel = lr.fit(training)\n",
    "\n",
    "# Print the coefficients and intercept for linear regression\n",
    "print(\"Coefficients: %s\" % str(lrModel.coefficients))\n",
    "print(\"Intercept: %s\" % str(lrModel.intercept))\n",
    "\n",
    "# Summarize the model over the training set and print out some metrics\n",
    "trainingSummary = lrModel.summary\n",
    "\n",
    "print(\"numIterations: %d\" % trainingSummary.totalIterations)\n",
    "print(\"objectiveHistory: %s\" % str(trainingSummary.objectiveHistory))\n",
    "trainingSummary.residuals.show()\n",
    "print(\"RMSE: %f\" % trainingSummary.rootMeanSquaredError)\n",
    "print(\"r2: %f\" % trainingSummary.r2)"
   ]
  },
  {
   "cell_type": "markdown",
   "id": "dd6eacce",
   "metadata": {},
   "source": [
    "### Regresión lineal generalizada"
   ]
  },
  {
   "cell_type": "markdown",
   "id": "71859bd2",
   "metadata": {},
   "source": [
    "En contraste con la regresión lineal donde se supone que la salida sigue una distribución gaussiana, los modelos lineales generalizados (GLM) son especificaciones de modelos lineales donde la variable de respuesta YI sigue alguna distribución de la familia exponencial de distribuciones. La  interfaz de Spark **GeneralizedLinearRegression** permite la especificación flexible de GLM que se pueden utilizar para varios tipos de problemas de predicción, incluida la regresión lineal, la regresión de Poisson, la regresión logística y otros."
   ]
  },
  {
   "cell_type": "code",
   "execution_count": 4,
   "id": "0b6de1e4",
   "metadata": {},
   "outputs": [
    {
     "name": "stdout",
     "output_type": "stream",
     "text": [
      "Coefficients: [0.010541828081257216,0.8003253100560949,-0.7845165541420371,2.3679887171421914,0.5010002089857577,1.1222351159753026,-0.2926824398623296,-0.49837174323213035,-0.6035797180675657,0.6725550067187461]\n",
      "Intercept: 0.14592176145232041\n",
      "Coefficient Standard Errors: [0.7950428434287478, 0.8049713176546897, 0.7975916824772489, 0.8312649247659919, 0.7945436200517938, 0.8118992572197593, 0.7919506385542777, 0.7973378214726764, 0.8300714999626418, 0.7771333489686802, 0.463930109648428]\n",
      "T Values: [0.013259446542269243, 0.9942283563442594, -0.9836067393599172, 2.848657084633759, 0.6305509179635714, 1.382234441029355, -0.3695715687490668, -0.6250446546128238, -0.7271418403049983, 0.8654306337661122, 0.31453393176593286]\n",
      "P Values: [0.989426199114056, 0.32060241580811044, 0.3257943227369877, 0.004575078538306521, 0.5286281628105467, 0.16752945248679119, 0.7118614002322872, 0.5322327097421431, 0.467486325282384, 0.3872259825794293, 0.753249430501097]\n",
      "Dispersion: 105.60988356821714\n",
      "Null Deviance: 53229.3654338832\n",
      "Residual Degree Of Freedom Null: 500\n",
      "Deviance: 51748.8429484264\n",
      "Residual Degree Of Freedom: 490\n",
      "AIC: 3769.1895871765314\n",
      "Deviance Residuals: \n",
      "+-------------------+\n",
      "|  devianceResiduals|\n",
      "+-------------------+\n",
      "|-10.974359174246889|\n",
      "| 0.8872320138420559|\n",
      "| -4.596541837478908|\n",
      "|-20.411667435019638|\n",
      "|-10.270419345342642|\n",
      "|-6.0156058956799905|\n",
      "|-10.663939415849267|\n",
      "| 2.1153960525024713|\n",
      "| 3.9807132379137675|\n",
      "|-17.225218272069533|\n",
      "| -4.611647633532147|\n",
      "| 6.4176669407698546|\n",
      "| 11.407137945300537|\n",
      "| -20.70176540467664|\n",
      "| -2.683748540510967|\n",
      "|-16.755494794232536|\n",
      "|  8.154668342638725|\n",
      "|-1.4355057987358848|\n",
      "|-0.6435058688185704|\n",
      "|  -1.13802589316832|\n",
      "+-------------------+\n",
      "only showing top 20 rows\n",
      "\n"
     ]
    }
   ],
   "source": [
    "from pyspark.ml.regression import GeneralizedLinearRegression\n",
    "\n",
    "# Load training data\n",
    "dataset = spark.read.format(\"libsvm\")\\\n",
    "    .load(\"data/sample_linear_regression_data.txt\")\n",
    "\n",
    "glr = GeneralizedLinearRegression(family=\"gaussian\", link=\"identity\", maxIter=10, regParam=0.3)\n",
    "\n",
    "# Fit the model\n",
    "model = glr.fit(dataset)\n",
    "\n",
    "# Print the coefficients and intercept for generalized linear regression model\n",
    "print(\"Coefficients: \" + str(model.coefficients))\n",
    "print(\"Intercept: \" + str(model.intercept))\n",
    "\n",
    "# Summarize the model over the training set and print out some metrics\n",
    "summary = model.summary\n",
    "print(\"Coefficient Standard Errors: \" + str(summary.coefficientStandardErrors))\n",
    "print(\"T Values: \" + str(summary.tValues))\n",
    "print(\"P Values: \" + str(summary.pValues))\n",
    "print(\"Dispersion: \" + str(summary.dispersion))\n",
    "print(\"Null Deviance: \" + str(summary.nullDeviance))\n",
    "print(\"Residual Degree Of Freedom Null: \" + str(summary.residualDegreeOfFreedomNull))\n",
    "print(\"Deviance: \" + str(summary.deviance))\n",
    "print(\"Residual Degree Of Freedom: \" + str(summary.residualDegreeOfFreedom))\n",
    "print(\"AIC: \" + str(summary.aic))\n",
    "print(\"Deviance Residuals: \")\n",
    "summary.residuals().show()"
   ]
  },
  {
   "cell_type": "markdown",
   "id": "8441b18f",
   "metadata": {},
   "source": [
    "### Decision tree regression"
   ]
  },
  {
   "cell_type": "code",
   "execution_count": 5,
   "id": "cb46efc9",
   "metadata": {},
   "outputs": [
    {
     "name": "stdout",
     "output_type": "stream",
     "text": [
      "+----------+-----+--------------------+\n",
      "|prediction|label|            features|\n",
      "+----------+-----+--------------------+\n",
      "|       0.0|  0.0|(692,[95,96,97,12...|\n",
      "|       0.0|  0.0|(692,[98,99,100,1...|\n",
      "|       0.0|  0.0|(692,[100,101,102...|\n",
      "|       0.0|  0.0|(692,[124,125,126...|\n",
      "|       0.0|  0.0|(692,[126,127,128...|\n",
      "+----------+-----+--------------------+\n",
      "only showing top 5 rows\n",
      "\n",
      "Root Mean Squared Error (RMSE) on test data = 0.229416\n",
      "DecisionTreeRegressionModel: uid=DecisionTreeRegressor_15745a8a15fb, depth=1, numNodes=3, numFeatures=692\n"
     ]
    }
   ],
   "source": [
    "from pyspark.ml import Pipeline\n",
    "from pyspark.ml.regression import DecisionTreeRegressor\n",
    "from pyspark.ml.feature import VectorIndexer\n",
    "from pyspark.ml.evaluation import RegressionEvaluator\n",
    "\n",
    "# Load the data stored in LIBSVM format as a DataFrame.\n",
    "data = spark.read.format(\"libsvm\").load(\"data/sample_libsvm_data.txt\")\n",
    "\n",
    "# Automatically identify categorical features, and index them.\n",
    "# We specify maxCategories so features with > 4 distinct values are treated as continuous.\n",
    "featureIndexer =\\\n",
    "    VectorIndexer(inputCol=\"features\", outputCol=\"indexedFeatures\", maxCategories=4).fit(data)\n",
    "\n",
    "# Split the data into training and test sets (30% held out for testing)\n",
    "(trainingData, testData) = data.randomSplit([0.7, 0.3])\n",
    "\n",
    "# Train a DecisionTree model.\n",
    "dt = DecisionTreeRegressor(featuresCol=\"indexedFeatures\")\n",
    "\n",
    "# Chain indexer and tree in a Pipeline\n",
    "pipeline = Pipeline(stages=[featureIndexer, \n",
    "                            dt])\n",
    "\n",
    "# Train model.  This also runs the indexer.\n",
    "model = pipeline.fit(trainingData)\n",
    "\n",
    "# Make predictions.\n",
    "predictions = model.transform(testData)\n",
    "\n",
    "# Select example rows to display.\n",
    "predictions.select(\"prediction\", \"label\", \"features\").show(5)\n",
    "\n",
    "# Select (prediction, true label) and compute test error\n",
    "evaluator = RegressionEvaluator(\n",
    "    labelCol=\"label\", predictionCol=\"prediction\", metricName=\"rmse\")\n",
    "\n",
    "rmse = evaluator.evaluate(predictions)\n",
    "print(\"Root Mean Squared Error (RMSE) on test data = %g\" % rmse)\n",
    "\n",
    "treeModel = model.stages[1]\n",
    "# summary only\n",
    "print(treeModel)"
   ]
  },
  {
   "cell_type": "markdown",
   "id": "fa8b3f6f",
   "metadata": {},
   "source": [
    "### Random forest regression"
   ]
  },
  {
   "cell_type": "code",
   "execution_count": 6,
   "id": "e8c0fe1c",
   "metadata": {},
   "outputs": [
    {
     "name": "stdout",
     "output_type": "stream",
     "text": [
      "+----------+-----+--------------------+\n",
      "|prediction|label|            features|\n",
      "+----------+-----+--------------------+\n",
      "|       0.0|  0.0|(692,[95,96,97,12...|\n",
      "|       0.0|  0.0|(692,[122,123,148...|\n",
      "|       0.0|  0.0|(692,[123,124,125...|\n",
      "|      0.05|  0.0|(692,[124,125,126...|\n",
      "|       0.0|  0.0|(692,[124,125,126...|\n",
      "+----------+-----+--------------------+\n",
      "only showing top 5 rows\n",
      "\n",
      "Root Mean Squared Error (RMSE) on test data = 0.0861892\n",
      "RandomForestRegressionModel: uid=RandomForestRegressor_86f0b69404a6, numTrees=20, numFeatures=692\n"
     ]
    }
   ],
   "source": [
    "from pyspark.ml import Pipeline\n",
    "from pyspark.ml.regression import RandomForestRegressor\n",
    "from pyspark.ml.feature import VectorIndexer\n",
    "from pyspark.ml.evaluation import RegressionEvaluator\n",
    "\n",
    "# Load and parse the data file, converting it to a DataFrame.\n",
    "data = spark.read.format(\"libsvm\").load(\"data/sample_libsvm_data.txt\")\n",
    "\n",
    "# Automatically identify categorical features, and index them.\n",
    "# Set maxCategories so features with > 4 distinct values are treated as continuous.\n",
    "featureIndexer =\\\n",
    "    VectorIndexer(inputCol=\"features\", outputCol=\"indexedFeatures\", maxCategories=4).fit(data)\n",
    "\n",
    "# Split the data into training and test sets (30% held out for testing)\n",
    "(trainingData, testData) = data.randomSplit([0.7, 0.3])\n",
    "\n",
    "# Train a RandomForest model.\n",
    "rf = RandomForestRegressor(featuresCol=\"indexedFeatures\")\n",
    "\n",
    "# Chain indexer and forest in a Pipeline\n",
    "pipeline = Pipeline(stages=[featureIndexer, \n",
    "                            rf])\n",
    "\n",
    "# Train model.  This also runs the indexer.\n",
    "model = pipeline.fit(trainingData)\n",
    "\n",
    "# Make predictions.\n",
    "predictions = model.transform(testData)\n",
    "\n",
    "# Select example rows to display.\n",
    "predictions.select(\"prediction\", \"label\", \"features\").show(5)\n",
    "\n",
    "# Select (prediction, true label) and compute test error\n",
    "evaluator = RegressionEvaluator(\n",
    "    labelCol=\"label\", predictionCol=\"prediction\", metricName=\"rmse\")\n",
    "\n",
    "rmse = evaluator.evaluate(predictions)\n",
    "print(\"Root Mean Squared Error (RMSE) on test data = %g\" % rmse)\n",
    "\n",
    "rfModel = model.stages[1]\n",
    "print(rfModel)  # summary only"
   ]
  },
  {
   "cell_type": "markdown",
   "id": "1e21d293",
   "metadata": {},
   "source": [
    "### Gradient-boosted tree regression"
   ]
  },
  {
   "cell_type": "markdown",
   "id": "791dfd38",
   "metadata": {},
   "source": [
    "Los árboles potenciados por gradientes (GBT) son un método de regresión popular que utiliza conjuntos de árboles de decisión."
   ]
  },
  {
   "cell_type": "code",
   "execution_count": 7,
   "id": "e7041636",
   "metadata": {},
   "outputs": [
    {
     "name": "stdout",
     "output_type": "stream",
     "text": [
      "+----------+-----+--------------------+\n",
      "|prediction|label|            features|\n",
      "+----------+-----+--------------------+\n",
      "|       0.0|  0.0|(692,[121,122,123...|\n",
      "|       0.0|  0.0|(692,[123,124,125...|\n",
      "|       0.0|  0.0|(692,[123,124,125...|\n",
      "|       0.0|  0.0|(692,[124,125,126...|\n",
      "|       0.0|  0.0|(692,[124,125,126...|\n",
      "+----------+-----+--------------------+\n",
      "only showing top 5 rows\n",
      "\n",
      "Root Mean Squared Error (RMSE) on test data = 0.235702\n",
      "GBTRegressionModel: uid=GBTRegressor_189f8579f60f, numTrees=10, numFeatures=692\n"
     ]
    }
   ],
   "source": [
    "from pyspark.ml import Pipeline\n",
    "from pyspark.ml.regression import GBTRegressor\n",
    "from pyspark.ml.feature import VectorIndexer\n",
    "from pyspark.ml.evaluation import RegressionEvaluator\n",
    "\n",
    "# Load and parse the data file, converting it to a DataFrame.\n",
    "data = spark.read.format(\"libsvm\").load(\"data/sample_libsvm_data.txt\")\n",
    "\n",
    "# Automatically identify categorical features, and index them.\n",
    "# Set maxCategories so features with > 4 distinct values are treated as continuous.\n",
    "featureIndexer =\\\n",
    "    VectorIndexer(inputCol=\"features\", outputCol=\"indexedFeatures\", maxCategories=4).fit(data)\n",
    "\n",
    "# Split the data into training and test sets (30% held out for testing)\n",
    "(trainingData, testData) = data.randomSplit([0.7, 0.3])\n",
    "\n",
    "# Train a GBT model.\n",
    "gbt = GBTRegressor(featuresCol=\"indexedFeatures\", \n",
    "                   maxIter=10)\n",
    "\n",
    "# Chain indexer and GBT in a Pipeline\n",
    "pipeline = Pipeline(stages=[featureIndexer, \n",
    "                            gbt])\n",
    "\n",
    "# Train model.  This also runs the indexer.\n",
    "model = pipeline.fit(trainingData)\n",
    "\n",
    "# Make predictions.\n",
    "predictions = model.transform(testData)\n",
    "\n",
    "# Select example rows to display.\n",
    "predictions.select(\"prediction\", \"label\", \"features\").show(5)\n",
    "\n",
    "# Select (prediction, true label) and compute test error\n",
    "evaluator = RegressionEvaluator(\n",
    "    labelCol=\"label\", predictionCol=\"prediction\", metricName=\"rmse\")\n",
    "\n",
    "rmse = evaluator.evaluate(predictions)\n",
    "print(\"Root Mean Squared Error (RMSE) on test data = %g\" % rmse)\n",
    "\n",
    "gbtModel = model.stages[1]\n",
    "print(gbtModel)  # summary only"
   ]
  },
  {
   "cell_type": "markdown",
   "id": "d2a712b9",
   "metadata": {},
   "source": [
    "### Survival regression"
   ]
  },
  {
   "cell_type": "code",
   "execution_count": 8,
   "id": "d5e7c96d",
   "metadata": {},
   "outputs": [
    {
     "name": "stdout",
     "output_type": "stream",
     "text": [
      "Coefficients: [-0.49630680601998534,0.19844393975928393]\n",
      "Intercept: 2.6380905631560205\n",
      "Scale: 1.547232686548845\n",
      "+-----+------+--------------+------------------+---------------------------------------+\n",
      "|label|censor|features      |prediction        |quantiles                              |\n",
      "+-----+------+--------------+------------------+---------------------------------------+\n",
      "|1.218|1.0   |[1.56,-0.605] |5.718996553029902 |[1.16032959510291,4.995471733719647]   |\n",
      "|2.949|0.0   |[0.346,2.158] |18.076458028588906|[3.6675401061563897,15.789559285491203]|\n",
      "|3.627|0.0   |[1.38,0.231]  |7.381875365763507 |[1.4977117707333807,6.44797551276303]  |\n",
      "|0.273|1.0   |[0.52,1.151]  |13.57758129907789 |[2.754761130759772,11.859846908963412] |\n",
      "|4.199|0.0   |[0.795,-0.226]|9.013093216625725 |[1.8286702406091537,7.872823838856875] |\n",
      "+-----+------+--------------+------------------+---------------------------------------+\n",
      "\n"
     ]
    }
   ],
   "source": [
    "from pyspark.ml.regression import AFTSurvivalRegression\n",
    "from pyspark.ml.linalg import Vectors\n",
    "\n",
    "training = spark.createDataFrame([\n",
    "    (1.218, 1.0, Vectors.dense(1.560, -0.605)),\n",
    "    (2.949, 0.0, Vectors.dense(0.346, 2.158)),\n",
    "    (3.627, 0.0, Vectors.dense(1.380, 0.231)),\n",
    "    (0.273, 1.0, Vectors.dense(0.520, 1.151)),\n",
    "    (4.199, 0.0, Vectors.dense(0.795, -0.226))], [\"label\", \"censor\", \"features\"])\n",
    "\n",
    "quantileProbabilities = [0.3, 0.6]\n",
    "\n",
    "aft = AFTSurvivalRegression(quantileProbabilities=quantileProbabilities,\n",
    "                            quantilesCol=\"quantiles\")\n",
    "\n",
    "model = aft.fit(training)\n",
    "\n",
    "# Print the coefficients, intercept and scale parameter for AFT survival regression\n",
    "print(\"Coefficients: \" + str(model.coefficients))\n",
    "print(\"Intercept: \" + str(model.intercept))\n",
    "print(\"Scale: \" + str(model.scale))\n",
    "\n",
    "model.transform(training).show(truncate=False)"
   ]
  },
  {
   "cell_type": "markdown",
   "id": "360554d4",
   "metadata": {},
   "source": [
    "### Factorization machines regressor"
   ]
  },
  {
   "cell_type": "markdown",
   "id": "c80eb256",
   "metadata": {},
   "source": [
    "Es un algoritmo de aprendizaje supervisado de propósito general que puede usar para tareas de clasificación y regresión. Es una extensión de un modelo lineal que está diseñado para **capturar interacciones** entre características dentro de datasets dispersos de alta dimensión de manera efectiva. \n",
    "\n",
    "Son una buena opción para tareas relacionadas con **conjuntos de datos dispersos de alta dimensión**, como la predicción de clics y la recomendación de productos."
   ]
  },
  {
   "cell_type": "code",
   "execution_count": 9,
   "id": "2adc9224",
   "metadata": {},
   "outputs": [
    {
     "name": "stdout",
     "output_type": "stream",
     "text": [
      "+--------------------+-----+--------------------+\n",
      "|          prediction|label|            features|\n",
      "+--------------------+-----+--------------------+\n",
      "| -0.1299601296044267|  0.0|(692,[98,99,100,1...|\n",
      "| 0.11749463799219526|  0.0|(692,[121,122,123...|\n",
      "| 0.10386738326255202|  0.0|(692,[122,123,148...|\n",
      "|-0.02954448235391964|  0.0|(692,[123,124,125...|\n",
      "|0.007530704501233554|  0.0|(692,[123,124,125...|\n",
      "+--------------------+-----+--------------------+\n",
      "only showing top 5 rows\n",
      "\n",
      "Root Mean Squared Error (RMSE) on test data = 0.175469\n",
      "Factors: DenseMatrix([[-0.0072708 ,  0.00015445,  0.00855879, ..., -0.01409133,\n",
      "              -0.00727729,  0.00399018],\n",
      "             [ 0.00101107,  0.01593516, -0.01961184, ...,  0.00440877,\n",
      "              -0.00971973, -0.00191153],\n",
      "             [-0.00919056,  0.01703717, -0.00668427, ...,  0.00199458,\n",
      "              -0.00583334,  0.00770875],\n",
      "             ...,\n",
      "             [ 0.00058313, -0.0001249 ,  0.01756442, ..., -0.01979171,\n",
      "               0.00352422,  0.00383595],\n",
      "             [ 0.00406513, -0.02845411,  0.01133165, ...,  0.00487093,\n",
      "              -0.00445342, -0.00283808],\n",
      "             [-0.00639807, -0.0037827 ,  0.01170216, ...,  0.0040779 ,\n",
      "              -0.00360301,  0.00453108]])\n",
      "Linear: [0.0038090999089538877,0.0038090999089538877,0.0038090999089538877,0.0038090999089538877,0.0038090999089538877,0.0038090999089538877,0.0038090999089538877,0.0038090999089538877,0.0038090999089538877,0.0038090999089538877,0.0038090999089538877,0.0038090999089538877,0.0038090999089538877,0.0038090999089538877,0.0038090999089538877,0.0038090999089538877,0.0038090999089538877,0.0038090999089538877,0.0038090999089538877,0.0038090999089538877,0.0038090999089538877,0.0038090999089538877,0.0038090999089538877,0.0038090999089538877,0.0038090999089538877,0.0038090999089538877,0.0038090999089538877,0.0038090999089538877,0.0038090999089538877,0.0038090999089538877,0.0038090999089538877,0.0038090999089538877,0.0038090999089538877,0.0038090999089538877,0.0038090999089538877,0.0038090999089538877,0.0038090999089538877,0.0038090999089538877,0.0038090999089538877,0.0038090999089538877,0.0038090999089538877,0.0038090999089538877,0.0038090999089538877,0.0038090999089538877,0.0038090999089538877,0.0038090999089538877,0.0038090999089538877,0.0038090999089538877,0.0038090999089538877,0.0038090999089538877,0.0038090999089538877,0.0038090999089538877,0.0038090999089538877,0.0038090999089538877,0.0038090999089538877,0.0038090999089538877,0.0038090999089538877,0.0038090999089538877,0.0038090999089538877,0.0038090999089538877,0.0038090999089538877,0.0038090999089538877,0.0038090999089538877,0.0038090999089538877,0.0038090999089538877,0.0038090999089538877,0.0038090999089538877,0.0038090999089538877,0.0038090999089538877,0.0038090999089538877,0.0038090999089538877,0.0038090999089538877,0.0038090999089538877,0.0038090999089538877,0.0038090999089538877,0.0038090999089538877,0.0038090999089538877,0.0038090999089538877,0.0038090999089538877,0.0038090999089538877,0.0038090999089538877,0.0038090999089538877,0.0038090999089538877,0.0038090999089538877,0.0038090999089538877,0.0038090999089538877,0.0038090999089538877,0.0038090999089538877,0.0038090999089538877,0.0038090999089538877,0.0038090999089538877,0.0038090999089538877,0.0038090999089538877,0.0038090999089538877,0.0038090999089538877,-0.004621506711462993,-0.004621506711462993,0.020834352297812185,0.037745251026903,0.037745148133686846,-0.045867870880243064,-0.04586799350556703,-0.04586678538189168,0.0038090999089538877,0.0038090999089538877,0.0038090999089538877,0.0038090999089538877,0.0038090999089538877,0.0038090999089538877,0.0038090999089538877,0.0038090999089538877,0.0038090999089538877,0.0038090999089538877,0.0038090999089538877,0.0038090999089538877,0.0038090999089538877,0.0038090999089538877,0.0038090999089538877,0.0038090999089538877,0.0,0.0,0.0,-0.00033398826384042614,0.0031258714062502597,0.0034715257537406828,0.004040678805203827,0.0017249371149487807,-0.0023727289264151618,-0.00109815538899146,-0.0036173389750365167,0.0021007866435329694,0.009106994614861348,0.007352522570676899,-0.013167120149073343,0.0038090999089538877,0.0038090999089538877,0.0038090999089538877,0.0038090999089538877,0.0038090999089538877,0.0038090999089538877,0.0038090999089538877,0.0038090999089538877,0.0038090999089538877,0.0038090999089538877,0.0038090999089538877,0.0038090999089538877,0.0,0.0,0.0,-0.00033400490106406315,-0.002629329527952227,-0.0034801586123538657,0.001794466405529903,-0.0018595241079594437,-0.004525661526588488,-0.004832599998799598,-0.003718361158034604,-0.0008944906509445401,-0.0006410845089008483,0.0022867609011181333,0.0018805667283749946,-0.0031288234944743514,-0.013659050403550465,0.0,0.0,0.0038090999089538877,0.0038090999089538877,0.0038090999089538877,0.0038090999089538877,0.0038090999089538877,0.0038090999089538877,0.0038090999089538877,0.0038090999089538877,0.0038090999089538877,0.0,0.0,-0.00033402081098308573,-0.005655086361096988,-0.0023496907015602237,-0.002940685635098494,-0.00432895564261593,-0.001874709501696147,-0.0014128594138126107,0.001359614702625588,-0.0009224489801190866,-0.0009926182967227104,-0.0014474690684541807,7.225089368365648e-06,-0.002584908916481617,-0.003734185912451677,-0.010645397074187112,0.0,0.0,0.0038090999089538877,0.0038090999089538877,0.0038090999089538877,0.0038090999089538877,0.0038090999089538877,0.0038090999089538877,0.0038090999089538877,0.0038090999089538877,0.0038090999089538877,0.0,-0.005712334711105571,-0.005242579214818812,-0.002934509227429798,-0.000146377268365276,-0.007754400643645723,-0.00532336022617009,0.0010135656898829423,0.0026839863508067163,0.0037634440899601486,0.0004389140245651077,-0.003007580332065368,-0.0030658718369262717,-0.001943404033497812,0.0002695099986979559,0.0033230233450175094,0.003823920847240268,-0.01001620466615755,0.0,0.0038090999089538877,0.0038090999089538877,0.0038090999089538877,0.0038090999089538877,0.0038090999089538877,0.0038090999089538877,0.0038090999089538877,0.0038090999089538877,0.0,-0.005712313972450579,-0.0051433710188893405,-0.009087899044870805,-0.0035917640367632247,-0.005805613323606977,-0.00688824628785173,-0.000761336023358964,0.004074488407624141,0.0020990810950944397,0.0007071055772058039,-0.0010309877329104202,-0.000755330523370121,-0.003398117927584183,-0.003624863592909013,-0.0025517356562747466,-0.0033783992076623325,0.001871039399842353,-0.004135099959579478,-0.003455073775907525,0.0038090999089538877,0.0038090999089538877,0.0038090999089538877,0.0038090999089538877,0.0038090999089538877,0.0038090999089538877,0.0038090999089538877,0.0038090999089538877,0.0,-0.00617022363486454,-0.007929267382174192,-0.012037362248444572,-0.006720353298444624,-0.00437050157855592,-0.007490632042212938,0.0001263438766762183,0.0015088982936543656,0.00015511991863366344,0.00030757206917765876,-0.00042820004956028394,0.001312073792565753,-0.0021129402745028066,-0.007310606859609532,-0.008893511940062465,-0.014029213336976331,-0.012981476993538865,-0.008707170569985687,-0.003674690139393703,0.0038090999089538877,0.0038090999089538877,0.0038090999089538877,0.0038090999089538877,0.0038090999089538877,0.0038090999089538877,0.0038090999089538877,0.0038090999089538877,-0.0063860307119951555,-0.009927909515141903,-0.010882590641107118,-0.0032775070379045695,-0.0037730042642991363,-0.007691234358148731,-0.007406192080411502,-0.002889204114090059,-0.0010401166209519832,0.0028124197873501343,0.0031989440953794535,0.0020616554057939487,0.004811671242956288,-5.682529380333993e-05,-0.007723916993946026,-0.014168287647503988,-0.014632654083422987,-0.015668564768502202,-0.01524179458541642,-0.008768317409619591,0.0038090999089538877,0.0038090999089538877,0.0038090999089538877,0.0038090999089538877,0.0038090999089538877,0.0038090999089538877,0.0038090999089538877,0.0038090999089538877,-0.010990587695746507,-0.012722682125517778,-0.0036117110835051694,-0.00045159647985327497,-0.0041285589977841115,-0.00963179088345429,-0.012568148025182498,-0.007073690704861537,0.0019388680430907637,0.006297923328022891,0.005153498394651833,0.005403869171250629,0.006766705076150597,0.001305808998622297,-0.01330379981192342,-0.01512445551177495,-0.01282614726367575,-0.014133478916450719,-0.017307638993772412,-0.016884853752513137,0.0038090999089538877,0.0038090999089538877,0.0038090999089538877,0.0038090999089538877,0.0038090999089538877,0.0038090999089538877,0.0038090999089538877,0.0038090999089538877,-0.013235430879333352,-0.0041249843042610364,0.001131947668798799,-0.003562898083320477,-0.009596079237103193,-0.015384241618391227,-0.012413630054973509,-0.0070982014366606045,0.004712481274524506,0.008477011447625731,0.006935741060742126,0.007940474632299563,0.0065560814791623965,-0.0066384057245621715,-0.017451851801381313,-0.015100882074759427,-0.013232375547333636,-0.011951468248809037,-0.01567905049978813,-0.014242817390690138,0.0038090999089538877,0.0038090999089538877,0.0038090999089538877,0.0038090999089538877,0.0038090999089538877,0.0038090999089538877,0.0038090999089538877,0.0038090999089538877,-0.007454836624758711,0.0030515575549680102,-0.002586000046109549,-0.012257092937865139,-0.013752746430217759,-0.015872240863925705,-0.012488388922588118,-0.007269176321194801,0.007803297600458532,0.009305781313358316,0.007547444081299557,0.007800005364342151,0.01119311142482486,-0.010830687973948172,-0.015897795206237204,-0.014817892726248767,-0.01430331733380587,-0.011428481394951845,-0.014662591893966249,-0.01766507806337639,0.0038090999089538877,0.0038090999089538877,0.0038090999089538877,0.0038090999089538877,0.0038090999089538877,0.0038090999089538877,0.0038090999089538877,-0.011120776559662983,-0.0037342467605506646,-0.006258300355332326,-0.01101150236704555,-0.013282872256785235,-0.014400478123674253,-0.01624825474136871,-0.012966033493485294,0.0030193365759977964,0.008995235192641808,0.00945022237145792,0.008076990419919508,0.007304971669244507,0.0007055440522597699,-0.015506200874717956,-0.014341199422699926,-0.014967774938047646,-0.014578433282062325,-0.01166484091468623,-0.015172828330598189,-0.017606607344416932,0.0038090999089538877,0.0038090999089538877,0.0038090999089538877,0.0038090999089538877,0.0038090999089538877,0.0038090999089538877,0.0038090999089538877,-0.011120776559662983,-0.014804455130441851,-0.013188540462232733,-0.009767784448669846,-0.013675369206012476,-0.013995389725664319,-0.014601844232067007,-0.008372319730383848,0.006726534504174099,0.00969482966396994,0.010359613263268685,0.007043549210835964,0.010590778546042297,-0.01261694531599837,-0.01621667048551068,-0.014043136601325579,-0.014434808449584448,-0.013843267580256858,-0.0138832679753761,-0.018434292088456386,-0.01736119524672651,0.0038090999089538877,0.0038090999089538877,0.0038090999089538877,0.0038090999089538877,0.0038090999089538877,0.0038090999089538877,0.0038090999089538877,-0.011120776559662983,-0.01516537806007452,-0.012058325929587051,-0.012241247278894848,-0.013547963466763005,-0.01387694873035138,-0.013349436854414407,0.0028766102126123938,0.008458573699451556,0.009393363884428399,0.00982836856937673,0.004811673625062225,0.0010527478455378827,-0.00989073848623682,-0.017771755998960578,-0.011745184076975706,-0.013419199309778468,-0.015989919163039865,-0.01592030817649563,-0.014966940261955771,-0.011467833559738835,0.0038090999089538877,0.0038090999089538877,0.0038090999089538877,0.0038090999089538877,0.0038090999089538877,0.0038090999089538877,0.0038090999089538877,-0.010837323562306095,-0.014555446043535343,-0.012332201992011859,-0.01221082094750182,-0.01318735209599695,-0.011455651967129249,-0.009218778757395747,0.004652962733901417,0.007727916117101364,0.009186272395777682,0.009040769679597948,0.005902229774914084,0.0019867812783916565,-0.012627164872332161,-0.012960808592977628,-0.009247062502709054,-0.010432296949951746,-0.01665092861523852,-0.013397092915934857,-0.010424632056636865,-0.011840581657092616,0.0038090999089538877,0.0038090999089538877,0.0038090999089538877,0.0038090999089538877,0.0038090999089538877,0.0038090999089538877,0.0038090999089538877,-0.01194184437199126,-0.014502578706976648,-0.016600005754199378,-0.013917209198718026,-0.012604916789066318,-0.009517245688598915,-0.0008466168914845707,0.003980427747591077,0.00840991550067153,0.009511620188974312,0.008598964763450234,0.009149242276415963,-0.0038504777392392737,-0.0148667003067561,-0.012375117258387405,-0.009359685187263432,-0.009097375112332818,-0.011882428266956825,-0.011342851130899681,-0.009111583036012286,-0.009645636210124582,0.0038090999089538877,0.0038090999089538877,0.0038090999089538877,0.0038090999089538877,0.0038090999089538877,0.0038090999089538877,0.0038090999089538877,-0.01022092640168003,-0.014011199665680835,-0.01725429409191625,-0.015141093232587758,-0.01140468655271194,-0.005487102803876997,0.0004987483097775192,0.0031150364727464334,0.0073671678013346046,0.006600360150343003,0.006269134260656799,0.006599626137995849,-0.007673640823702467,-0.011854017946121745,-0.00873850795826169,-0.006842025823804831,-0.007522708017170528,-0.010228685241978602,-0.01822791649923692,-0.01036028139668898,-0.009567395541632355,0.0038090999089538877,0.0038090999089538877,0.0038090999089538877,0.0038090999089538877,0.0038090999089538877,0.0038090999089538877,0.0038090999089538877,-0.009999242654680988,-0.01325593853792602,-0.015805294335779776,-0.011599021723786023,-0.01034151461493265,-0.006819951442781765,-0.00256100899730973,-0.0008471940585519775,0.0015155181120087137,0.001546315748986312,0.0033082082266197247,-0.0002614395029389732,-0.00723040152971433,-0.006866729133507555,-0.00036113419789998437,-0.009995973730060437,-0.010339885358004328,-0.011908012431146241,-0.013720861941986512,-0.007328308431721513,0.0038090999089538877,0.0038090999089538877,0.0038090999089538877,0.0038090999089538877,0.0038090999089538877,0.0038090999089538877,0.0038090999089538877,0.0038090999089538877,0.0,-0.013665348560513981,-0.0013346774026340858,-0.0063298571004973886,-0.00618629292157305,-0.004590775410389354,-0.0010492420848458334,-0.0004902281840176246,-0.001616837769890719,0.00015194398977425212,-0.0005261122040630813,0.000339793957653042,-0.0016305964461919452,-0.001274019202661172,-0.004997653723733903,-0.008742198534440783,-0.007072052572942011,-0.010719549552920222,-0.009986034361400857,-0.009844037211069056,0.0038090999089538877,0.0038090999089538877,-0.006744622134612647,0.0038090999089538877,0.0038090999089538877,0.0038090999089538877,0.0038090999089538877,0.0038090999089538877,0.0,-0.015393689333109405,0.020115415226126573,0.006154089441196541,0.0016435204170911315,0.0008403860947563609,0.0005458324424337754,0.0012306688244421975,-0.0010166457932186633,-0.001776229992085283,-0.0029257450354270628,-0.0005608711268875813,-0.00255166659564016,-0.003967181884961062,-0.005033148919762183,0.003297097166603249,-0.0022795990390786646,-0.007498760971923111,-0.005712207957320169,0.0038090999089538877,0.0038090999089538877,0.0038090999089538877,0.0038090999089538877,0.0038090999089538877,0.0038090999089538877,0.0038090999089538877,0.0038090999089538877,0.0038090999089538877,0.0038090999089538877,0.0,-0.0080321737720594,0.011585989239738435,0.010121945655267696,0.0050693238440049785,0.0015677963556980066,-0.002349916094892191,-0.004011915612109199,-0.006805883573744806,-0.004935130156752388,-0.0072830848852397335,-0.00790163779206884,-0.0023446073094958945,0.0032375866652695124,0.002172109502495341,0.01388200044822339,0.0,0.0,0.0038090999089538877,0.0038090999089538877,0.0038090999089538877,0.0038090999089538877,0.0038090999089538877,0.0038090999089538877,0.0038090999089538877,0.0038090999089538877,0.0038090999089538877,0.0038090999089538877,0.0038090999089538877,-0.015333545935344608,-0.01533525787247755,-0.0124356245532361,0.004659582512189932,0.0035089913011615782,-0.003375943562322797,-0.01069755188206344,-0.01708095151926044,-0.004874716967151146,0.003076254895407452,-0.004243715259459094,-0.0051122370110658665,-0.01762262279735417,0.0]\n",
      "Intercept: 0.003809099973761502\n"
     ]
    }
   ],
   "source": [
    "from pyspark.ml import Pipeline\n",
    "from pyspark.ml.regression import FMRegressor\n",
    "from pyspark.ml.feature import MinMaxScaler\n",
    "from pyspark.ml.evaluation import RegressionEvaluator\n",
    "\n",
    "# Load and parse the data file, converting it to a DataFrame.\n",
    "data = spark.read.format(\"libsvm\").load(\"data/sample_libsvm_data.txt\")\n",
    "\n",
    "# Scale features.\n",
    "featureScaler = MinMaxScaler(inputCol=\"features\", outputCol=\"scaledFeatures\").fit(data)\n",
    "\n",
    "# Split the data into training and test sets (30% held out for testing)\n",
    "(trainingData, testData) = data.randomSplit([0.7, 0.3])\n",
    "\n",
    "# Train a FM model.\n",
    "fm = FMRegressor(featuresCol=\"scaledFeatures\", \n",
    "                 stepSize=0.001)\n",
    "\n",
    "# Create a Pipeline.\n",
    "pipeline = Pipeline(stages=[featureScaler, \n",
    "                            fm])\n",
    "\n",
    "# Train model.\n",
    "model = pipeline.fit(trainingData)\n",
    "\n",
    "# Make predictions.\n",
    "predictions = model.transform(testData)\n",
    "\n",
    "# Select example rows to display.\n",
    "predictions.select(\"prediction\", \"label\", \"features\").show(5)\n",
    "\n",
    "# Select (prediction, true label) and compute test error\n",
    "evaluator = RegressionEvaluator(\n",
    "    labelCol=\"label\", predictionCol=\"prediction\", metricName=\"rmse\")\n",
    "\n",
    "rmse = evaluator.evaluate(predictions)\n",
    "print(\"Root Mean Squared Error (RMSE) on test data = %g\" % rmse)\n",
    "\n",
    "fmModel = model.stages[1]\n",
    "print(\"Factors: \" + str(fmModel.factors))  # type: ignore\n",
    "print(\"Linear: \" + str(fmModel.linear))  # type: ignore\n",
    "print(\"Intercept: \" + str(fmModel.intercept))  # type: ignore"
   ]
  },
  {
   "cell_type": "code",
   "execution_count": 10,
   "id": "381d52ab",
   "metadata": {},
   "outputs": [],
   "source": [
    "spark.stop()"
   ]
  }
 ],
 "metadata": {
  "kernelspec": {
   "display_name": "Python 3",
   "language": "python",
   "name": "python3"
  },
  "language_info": {
   "codemirror_mode": {
    "name": "ipython",
    "version": 3
   },
   "file_extension": ".py",
   "mimetype": "text/x-python",
   "name": "python",
   "nbconvert_exporter": "python",
   "pygments_lexer": "ipython3",
   "version": "3.11.9"
  }
 },
 "nbformat": 4,
 "nbformat_minor": 5
}
